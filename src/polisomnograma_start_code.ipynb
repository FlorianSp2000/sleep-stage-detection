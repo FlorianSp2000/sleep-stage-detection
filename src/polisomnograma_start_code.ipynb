{
 "cells": [
  {
   "attachments": {},
   "cell_type": "markdown",
   "metadata": {},
   "source": [
    "---\n",
    "title: \"Código básico para un solo paciente\"\n",
    "format: html\n",
    "---"
   ]
  },
  {
   "cell_type": "code",
   "execution_count": 12,
   "metadata": {},
   "outputs": [],
   "source": [
    "import numpy as np\n",
    "import mne\n",
    "import yasa\n",
    "import pandas as pd\n",
    "\n",
    "from sklearn.preprocessing import label_binarize\n",
    "from sklearn.multiclass import OneVsRestClassifier\n",
    "from sklearn.ensemble import RandomForestClassifier\n",
    "from sklearn.metrics import roc_curve, auc"
   ]
  },
  {
   "attachments": {},
   "cell_type": "markdown",
   "metadata": {},
   "source": [
    "# Información importante\n",
    "\n",
    "http://dataset.isr.uc.pt/ISRUC_Sleep/Content.pdf\n",
    "\n",
    "Pacientes Data of Subgroup_3. Cada comprimido tiene:\n",
    "* un fichero .rec que es un .edf (RENOMBRARLO)\n",
    "* dos ficheros .txt que son las marcas de los especialistas\n",
    "* dos fichero .xlsx que contienen la misma información (Stage) y más (muy útil si se desea profundizar en porqué se cometen los errores, para descartar épocas de dudosa calidad, etc.).\n",
    "\n",
    "https://sleeptight.isr.uc.pt/?page_id=48\n",
    "\n",
    "El PSG está compuesto por las señales de los siguientes canales:\n",
    "\n",
    "-   EEG (F3, C3, O1, F4, C4 y O2);\n",
    "-   EOG, derecho e izquierdo (ROC y LOC);\n",
    "-   electrocardiograma (ECG);\n",
    "-   tipos de EMG (un m. submentalis -- EMG de la barbilla (X1) -- y dos m. tibialis -- EMG de las piernas);\n",
    "-   Las referencias se colocaron en los lóbulos de las orejas izquierda y derecha (A1, A2).\n"
   ]
  },
  {
   "attachments": {},
   "cell_type": "markdown",
   "metadata": {},
   "source": [
    "# Canales del polisomnograma"
   ]
  },
  {
   "cell_type": "code",
   "execution_count": null,
   "metadata": {},
   "outputs": [],
   "source": [
    "path = '1/1.edf' #camino al fichero del paciente 1\n",
    "raw = mne.io.read_raw_edf(path, preload=True)\n",
    "#Eliminamos los canales que no queremos, CUIDADO CON QUITAR MUCHOS CANALES PORQUE DESPUÉS NO HAY INTERPRETACIÓN CLÍNICA\n",
    "raw.drop_channels(['X4', 'X5', 'X6', 'DC3', 'X7', 'X8', 'SaO2', 'DC8','ROC-A1', 'F3-A2', 'C3-A2', 'O1-A2', 'F4-A1','O2-A1', 'X2', 'X3' ])\n",
    "#Cambiamos la frecuencia a 100 Hz para reducir el tiempo de cálculo (aprovechamos que no tenemos frecuencias superiores a 50Hz de interés)\n",
    "raw.resample(100)\n",
    "#Filtramos la señal para eliminar la línea basal (f muy bajas producidas por la respiración, movimiento de piernas, etc.) \n",
    "raw.filter(0.3, 49)\n",
    "# Observamos los datos\n",
    "sf = raw.info['sfreq']\n",
    "chan = raw.ch_names\n",
    "print('Chan =', chan)\n",
    "print('Sampling frequency =', sf, 'Hz')\n",
    "#CUIDADO! si se accede directamente a los datos hay que cambiar la escala!\n",
    "data = raw.get_data() * 1e6 #microVolts (porque mne trabaja en V)\n",
    "data = data[:,:-30*30*100] #eliminamos las 30 últimas porque lo indica el artículo de referencia\n",
    "print('Data shape =', data.shape)\n"
   ]
  },
  {
   "attachments": {},
   "cell_type": "markdown",
   "metadata": {},
   "source": [
    "# Etiquetas Fases\n",
    "\n",
    "CODIFICACIÓN DE LAS FASES EN LOS FICHEROS DE ISRUC-SLEEP Dataset (cuidado porque no hay valor 4 (antiguamente se distinguía una fase más))\n",
    "\n",
    "* TXT->STAGE\n",
    "* 0->W\n",
    "* 1->N1\n",
    "* 2->N2\n",
    "* 3->N3\n",
    "* 5->REM\n",
    "\n",
    "The default hypnogram format in YASA is a 1D integer vector where:\n",
    "    \n",
    "* -2 = Unscored\n",
    "* -1 = Artefact / Movement\n",
    "* 0 = Wake\n",
    "* 1 = N1 sleep\n",
    "* 2 = N2 sleep\n",
    "* 3 = N3 sleep\n",
    "* 4 = REM sleep"
   ]
  },
  {
   "cell_type": "code",
   "execution_count": 14,
   "metadata": {},
   "outputs": [],
   "source": [
    "#Cargamos las etiquetas del primer médico y eliminamos las 30 por que lo indica el artículo \n",
    "path_lab='1/1_1.txt'  #camino a las etiquetas de marcado del clínico 1\n",
    "labels1 = pd.read_csv(path_lab, header = None).squeeze(\"columns\")\n",
    "labels1[labels1==5]=4 #cuidado con la codificación si se quiere utilizar las funciones de YASA... \n",
    "labels1 = labels1[:-30]"
   ]
  },
  {
   "attachments": {},
   "cell_type": "markdown",
   "metadata": {},
   "source": [
    "# Características \n",
    "\n",
    "Generamos un registro por cada 30 segundos de polisomnograma. La función SleepStaging realiza esta tarea pero genera las características que considera el autor de la librería. "
   ]
  },
  {
   "cell_type": "code",
   "execution_count": 16,
   "metadata": {},
   "outputs": [],
   "source": [
    "#Obtenemos algunas características utilizando la función SleepStaging\n",
    "sls = yasa.SleepStaging(raw, eeg_name ='C4-A1' ,  eog_name='LOC-A2', emg_name='X1')\n",
    "#Eliminamos las 30 últimas épocas\n",
    "sls2 = sls.get_features()[:-30]\n",
    "\n",
    "sls_train = sls2 \n",
    "label_train = labels1"
   ]
  },
  {
   "attachments": {},
   "cell_type": "markdown",
   "metadata": {},
   "source": [
    "# Modelo \n",
    "\n",
    "Modelo multiclase sin ajuste de parámetros, ni validación ni generalización. "
   ]
  },
  {
   "cell_type": "code",
   "execution_count": 17,
   "metadata": {},
   "outputs": [],
   "source": [
    "X_train= sls_train[:]\n",
    "y_train= label_train[:]\n",
    "\n",
    "# Binarize the output\n",
    "y_train = label_binarize(y_train, classes=[0, 1, 2, 3, 4])\n",
    "n_classes = 5\n",
    "# Learn to predict each class against the other\n",
    "classifier = OneVsRestClassifier(\n",
    "     RandomForestClassifier(n_estimators=1000, criterion=\"gini\", random_state=0)\n",
    ")\n",
    "classifier.fit(X_train, y_train)\n",
    "\n",
    "rf = []\n",
    "rf.append(classifier)\n",
    "y_score_train = classifier.predict_proba(X_train)\n",
    "# Compute ROC curve and ROC area for each class\n",
    "fpr = dict()\n",
    "tpr = dict()\n",
    "thresholds = dict()\n",
    "roc_auc_train = dict()\n",
    "for i in range(n_classes):\n",
    "    fpr[i], tpr[i], thresholds[i] = roc_curve(y_train[:, i], y_score_train[:, i])\n",
    "    roc_auc_train[i] = auc(fpr[i], tpr[i])"
   ]
  },
  {
   "cell_type": "code",
   "execution_count": 18,
   "metadata": {},
   "outputs": [
    {
     "data": {
      "text/plain": [
       "{0: 1.0, 1: 1.0, 2: 0.9999999999999999, 3: 1.0, 4: 1.0}"
      ]
     },
     "execution_count": 18,
     "metadata": {},
     "output_type": "execute_result"
    }
   ],
   "source": [
    "roc_auc_train"
   ]
  }
 ],
 "metadata": {
  "kernelspec": {
   "display_name": "mne",
   "language": "python",
   "name": "python3"
  },
  "language_info": {
   "codemirror_mode": {
    "name": "ipython",
    "version": 3
   },
   "file_extension": ".py",
   "mimetype": "text/x-python",
   "name": "python",
   "nbconvert_exporter": "python",
   "pygments_lexer": "ipython3",
   "version": "3.10.4"
  },
  "orig_nbformat": 4,
  "vscode": {
   "interpreter": {
    "hash": "a786468ed6a2a53684b059eaf2c4f972c5031c9d83d52ce1031ae0057af25476"
   }
  }
 },
 "nbformat": 4,
 "nbformat_minor": 2
}
